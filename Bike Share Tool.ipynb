{
 "cells": [
  {
   "cell_type": "code",
   "execution_count": 77,
   "metadata": {
    "collapsed": false,
    "deletable": true,
    "editable": true
   },
   "outputs": [
    {
     "name": "stdout",
     "output_type": "stream",
     "text": [
      "432946\n",
      "406\n",
      "2014-08-31 22:31\n",
      "Mountain View Caltrain Station\n",
      "28\n",
      "2014-08-31 22:38\n",
      "Castro Street and El Camino Real\n",
      "32\n",
      "17\n",
      "Subscriber\n",
      "94040\n"
     ]
    }
   ],
   "source": [
    "import csv\n",
    "\n",
    "# with open(\"GDA DATA.csv\", \"rb\") as csvfile:\n",
    "#     reader = csv.DictReader(csvfile)\n",
    "#     for row in reader:\n",
    "#         print row['Trip ID']\n",
    "                        \n",
    "            \n",
    "            \n",
    "import sqlite3\n",
    "\n",
    "# Open the connection (this creates the database if there is not one already)\n",
    "conn = sqlite3.connect('bike.db')\n",
    "# Create cursor\n",
    "c = conn.cursor()\n",
    "\n",
    "# Drop all the tables if they exist\n",
    "c.execute('''drop table if exists bike_share''')\n",
    "\n",
    "# Create each table\n",
    "c.execute(\n",
    "    '''\n",
    "    CREATE TABLE IF NOT EXISTS bike_share(\n",
    "    trip_id integer,\n",
    "    duration integer,\n",
    "    start_date date,\n",
    "    start_station text,\n",
    "    start_terminal integer,\n",
    "    end_date date,\n",
    "    end_station text,\n",
    "    end_terminal integer,\n",
    "    bike_num integer,\n",
    "    subscriber_type text,\n",
    "    zip_code integer)\n",
    "    '''    \n",
    "\n",
    ")\n",
    "# Load the data for the table from csv file\n",
    "# The CSV file is opened and then turned into a python list, which is then loaded by line\n",
    "with open(\"C:\\\\Users\\\\cjbro\\\\OneDrive\\\\Documents\\\\The next step\\\\Uber\\\\GDA DATA_2.csv\", 'rb') as bike_data:\n",
    "    reader = csv.reader(bike_data)\n",
    "    next(reader, None)\n",
    "    part = list(reader)\n",
    "    for line in part:\n",
    "        c.execute('''insert into bike_share values(?,?,?,?,?,?,?,?,?,?,?)''', line)\n",
    "\n",
    "# Select and print one row to make sure data loaded\n",
    "c.execute(\"select * from bike_share where trip_id = 432946\")\n",
    "result = c.fetchall()\n",
    "\n",
    "for item in result:\n",
    "    for thing in item:\n",
    "        print (thing)\n",
    "\n",
    "\n",
    "# Commit database changes and close the connection        \n",
    "conn.commit()\n",
    "conn.close()"
   ]
  },
  {
   "cell_type": "code",
   "execution_count": 153,
   "metadata": {
    "collapsed": false
   },
   "outputs": [
    {
     "data": {
      "application/vnd.jupyter.widget-view+json": {
       "model_id": "75283fb74f29422c80f5af72791f09af"
      }
     },
     "metadata": {},
     "output_type": "display_data"
    }
   ],
   "source": [
    "# Open the connection (this creates the database if there is not one already)\n",
    "conn = sqlite3.connect('bike.db')\n",
    "# Create cursor\n",
    "c = conn.cursor()\n",
    "\n",
    "# This function gives a list of bikes which have been ridden more than 100 hours\n",
    "# and shows number of hours and number of trips\n",
    "def bike_hours_over_100(date, hours):\n",
    "    dated = [str(date),str(hours),]\n",
    "    \n",
    "    print(\"Enter date above in the following format yyyy-mm-dd\",\"\\n\")\n",
    "    print(\"Display shows bikes with hours greater than inputed from date given\",\"\\n\")\n",
    "\n",
    "    \n",
    "    c.execute('''select bike_num,  \n",
    "                round((total(duration)/3600),1) as duration_hours,\n",
    "                count(trip_id)\n",
    "                from bike_share\n",
    "                where date(start_date) > date('''+dated[0]+''') \n",
    "                group by bike_num\n",
    "                having (total(duration)/3600) >= '''+dated[1]+'''\n",
    "                order by duration_hours desc\n",
    "                ''')\n",
    "    result = c.fetchall()\n",
    "    print (\"Bike Num\",\"Total Hours\",\"\\t\",\"Number of Rides\")\n",
    "    for item in result:\n",
    "        print (item[0],\"\\t\",item[1],\"\\t\"*2,item[2])\n",
    "\n",
    "\n",
    "interact(bike_hours_over_100,date='2014-03-01',hours='200');"
   ]
  },
  {
   "cell_type": "code",
   "execution_count": 110,
   "metadata": {
    "collapsed": false
   },
   "outputs": [
    {
     "data": {
      "application/vnd.jupyter.widget-view+json": {
       "model_id": "93098fcb2dc84e2a885b409872fcf0c4"
      }
     },
     "metadata": {},
     "output_type": "display_data"
    }
   ],
   "source": [
    "from __future__ import print_function\n",
    "from IPython.html.widgets import interact, interactive, fixed\n",
    "from IPython.html import widgets\n",
    "import sqlite3\n",
    "\n",
    "# Open the connection (this creates the database if there is not one already)\n",
    "conn = sqlite3.connect('bike.db')\n",
    "# Create cursor\n",
    "c = conn.cursor()\n",
    "\n",
    "\n",
    "# This function take the bike number as an argument and then performs a number of\n",
    "# SQL queries to collect statistics on the particular bike\n",
    "\n",
    "def bike_facts(bike_number):\n",
    "    print(\"Enter bike number above to recieve statistics of bike usage\",\"\\n\")\n",
    "    print(\"Bike numbers range from 9 to 878\",\"\\n\")\n",
    "    bikenumber = (str(bike_number),)\n",
    "    # This query selects the bike number, total hours the bike has been ridden,\n",
    "    # the average minutes per ride, and the total number of rides\n",
    "    c.execute(\"\"\"select bike_num, \n",
    "            round((total(duration)/3600),1) as duration_hours,\n",
    "            round((avg(duration)/60),1),\n",
    "            count(trip_id)\n",
    "            from bike_share\n",
    "            where bike_num = ?\n",
    "            group by bike_num \n",
    "            order by duration_hours desc\"\"\", bikenumber)\n",
    "    result = c.fetchall()\n",
    "    print(\"*Bike Stats*\",\"\\n\")\n",
    "    for item in result:\n",
    "        print (\"Bike Number:\"+str(item[0]))\n",
    "        print (\"Total Hours:\"+str(item[1]))\n",
    "        print (\"Average Trip Minutes:\"+str(item[2]))\n",
    "        print (\"Number of Trips:\"+str(item[3]))\n",
    "        print (\"\\n\")\n",
    "    \n",
    "    # This query pulls the total number of trips the bike has been on each month\n",
    "    print(\"Hours, Number of trips per Month:\",\"\\n\")    \n",
    "    c.execute('''select \n",
    "                    strftime(\"%m-%Y\", start_date) as month_year,\n",
    "                    round((total(duration)/3600),1) as duration_hours,\n",
    "                    count(trip_id)\n",
    "                    from bike_share\n",
    "                    where bike_num = ?\n",
    "                    group by strftime(\"%m-%Y\", start_date)''',bikenumber)\n",
    "    result2 = c.fetchall()\n",
    "    for item in result2:\n",
    "        print (item[0],\"\\t\",item[1],\"\\t\",item[2])\n",
    "    print (\"\\n\")\n",
    "              \n",
    "    # This query prints a list of all the origination stations of the bike\n",
    "    # and how many trips originated there\n",
    "    c.execute('''select distinct(start_station),count(trip_id) as stat_count \n",
    "    from bike_share where bike_num = ? group by start_station\n",
    "    order by stat_count desc''', bikenumber)\n",
    "    result1 = c.fetchall()\n",
    "\n",
    "    print(\"Count of trips by where trip originated\",\"\\n\")\n",
    "    for item in result1:\n",
    "        print (item[1],\"\\t\",item[0])\n",
    "\n",
    "    # This query prints a list of all the end stations of the bike\n",
    "    # and how many trips ended there\n",
    "    c.execute('''select distinct(end_station),count(trip_id) as stat_count \n",
    "    from bike_share where bike_num = ? group by end_station\n",
    "    order by stat_count desc''', bikenumber)\n",
    "    result1 = c.fetchall()\n",
    "    print(\"\\n\")\n",
    "    print(\"Count of trips by where trip ended\",\"\\n\")\n",
    "    for item in result1:\n",
    "        print (item[1],\"\\t\",item[0])\n",
    "\n",
    "interact(bike_facts, bike_number='9');\n",
    "\n"
   ]
  }
 ],
 "metadata": {
  "kernelspec": {
   "display_name": "Python 2",
   "language": "python",
   "name": "python2"
  },
  "language_info": {
   "codemirror_mode": {
    "name": "ipython",
    "version": 2
   },
   "file_extension": ".py",
   "mimetype": "text/x-python",
   "name": "python",
   "nbconvert_exporter": "python",
   "pygments_lexer": "ipython2",
   "version": "2.7.13"
  }
 },
 "nbformat": 4,
 "nbformat_minor": 2
}
